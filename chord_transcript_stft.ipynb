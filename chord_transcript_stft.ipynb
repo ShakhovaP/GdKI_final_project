{
  "nbformat": 4,
  "nbformat_minor": 0,
  "metadata": {
    "colab": {
      "provenance": [],
      "collapsed_sections": [],
      "authorship_tag": "ABX9TyNOY8ovso7xqsyGs7owVLjY",
      "include_colab_link": true
    },
    "kernelspec": {
      "name": "python3",
      "display_name": "Python 3"
    },
    "language_info": {
      "name": "python"
    }
  },
  "cells": [
    {
      "cell_type": "markdown",
      "metadata": {
        "id": "view-in-github",
        "colab_type": "text"
      },
      "source": [
        "<a href=\"https://colab.research.google.com/github/ShakhovaP/musical-chord-recognition/blob/main/chord_transcript_stft.ipynb\" target=\"_parent\"><img src=\"https://colab.research.google.com/assets/colab-badge.svg\" alt=\"Open In Colab\"/></a>"
      ]
    },
    {
      "cell_type": "code",
      "execution_count": 1,
      "metadata": {
        "id": "hyQ0QF5XLui-"
      },
      "outputs": [],
      "source": [
        "import csv\n",
        "import numpy as np\n",
        "import os\n",
        "import re"
      ]
    },
    {
      "cell_type": "code",
      "source": [
        "from google.colab import drive\n",
        "drive.mount('/content/gdrive')"
      ],
      "metadata": {
        "id": "nyZJlg60L4rt"
      },
      "execution_count": null,
      "outputs": []
    },
    {
      "cell_type": "code",
      "source": [
        "CHORDS_DIR = '/content/gdrive/MyDrive/data_cut/tr_7'"
      ],
      "metadata": {
        "id": "YLj6MJOPL8k7"
      },
      "execution_count": 2,
      "outputs": []
    },
    {
      "cell_type": "code",
      "source": [
        "def _read_file(song_path):\n",
        "    \"\"\"Reads file with chord transcriptions of the song\n",
        "\n",
        "        :param song_path (string): path to the song transcription file\n",
        "        :return chord_transcription (list): ChordStartTime, ChordEndTime and ChordLabel for each chord \n",
        "    \"\"\"\n",
        "    try:\n",
        "        with open(song_path, \"r\") as csv_file:\n",
        "            try:\n",
        "                data = csv.reader(csv_file, delimiter=\" \")\n",
        "                chord_transcription = [[float(row[0]), float(row[1]), str(row[2])] for row in data]\n",
        "                return chord_transcription\n",
        "            except:\n",
        "                print(f\"Problem in processing {os.path.basename(song_path)}.\\n\"\n",
        "                        \"Data format is incorrect!\")\n",
        "                # [print(row[0]) for row in data]   \n",
        "    except OSError:\n",
        "        print(f\"Can't open {os.path.basename(song_path)}\")\n"
      ],
      "metadata": {
        "id": "kb9W8nFkMDgR"
      },
      "execution_count": null,
      "outputs": []
    },
    {
      "cell_type": "code",
      "source": [
        "def count_unique_values(data):\n",
        "    \"\"\"Counts how many times each value of data was used\n",
        "\n",
        "        :param data (list):\n",
        "        :return (dictionary): dictionary where keys are all values used in data and values are the numbers of times they were used\n",
        "    \"\"\"\n",
        "    data = np.array(data).reshape(-1)\n",
        "    # res = {}\n",
        "    values, counts = np.unique(data, return_counts=True)  \n",
        "    return dict(zip(values, counts))\n",
        "\n",
        "def _get_column(matrix, i):\n",
        "    \"\"\"Returns needed column of given matrix\n",
        "\n",
        "        :param matrix (list): given matrix\n",
        "        :param i (int): column index\n",
        "\n",
        "        :return (list): list of values of column with index i in matrix\n",
        "    \"\"\"\n",
        "    return [row[i] for row in matrix]"
      ],
      "metadata": {
        "id": "y_figTAkMELA"
      },
      "execution_count": null,
      "outputs": []
    },
    {
      "cell_type": "code",
      "source": [
        "def get_chord_transcripts(dirname):\n",
        "    \"\"\"Reads and saves chord transcriptions of each song from the directory\n",
        "\n",
        "        :param dirname (string): name of the directory with transcription files\n",
        "        :return transcriptions (dictionary): dictionary where keys are song transcription file names and \n",
        "                                                              values are [ [ChordStartTime, ChordEndTime, Chord], ...] of each song\n",
        "    \"\"\"\n",
        "    transcriptions = {}\n",
        "    for filename in os.scandir(dirname):\n",
        "        if filename.is_file():\n",
        "            t_chords = _read_file(filename)\n",
        "            transcriptions[os.path.basename(filename)] = t_chords\n",
        "    return transcriptions\n",
        "\n",
        "def count_chord_types(song_transcripts_arr):\n",
        "    \"\"\"Counts how many times each chord was used in input dataset\n",
        "\n",
        "        :param song_transcripts_arr (list): list of chord transcriptions\n",
        "        :return chord_counts (dictionary): dictionary where keys are chord labels and values are the numbers of times they were used\n",
        "    \"\"\"\n",
        "    all_used_chords = []\n",
        "    for st in song_transcripts_arr:\n",
        "        all_used_chords += _get_column(st, 2)\n",
        "    chord_counts = count_unique_values(all_used_chords)\n",
        "    return chord_counts"
      ],
      "metadata": {
        "id": "Y_7-Du5EMG8P"
      },
      "execution_count": null,
      "outputs": []
    },
    {
      "cell_type": "code",
      "source": [
        "def _simplify_chord(chord):\n",
        "    \"\"\"Replaces complicated chord with simple analog\n",
        "\n",
        "        :param chord (string):  input chord\n",
        "        :return base (string): simplified chord\n",
        "    \"\"\"\n",
        "    base = re.search(\"^[A-GN][#b]?\", chord).group()   # find the base note in chord label)\n",
        "    n = [\"A\", \"B\", \"C\", \"D\", \"E\", \"F\", \"G\"]\n",
        "    if re.search(\".*min.*|^[A-G][b#]?m.*\", chord):    # if the chord is minor\n",
        "        base += \"m\"                                   # add \"m\" to the base note\n",
        "    \n",
        "    if \"#\" in base:\n",
        "        n.reverse()\n",
        "        index = n.index(base[0]) - 1\n",
        "        base += re.sub(\"[A-G]#\", \"|\" + n[index] + \"b\", base)\n",
        "    elif \"b\" in base:\n",
        "        index = n.index(base[0]) - 1\n",
        "        base = re.sub(\"[A-G]b\", n[index] + \"#\", base) + \"|\" + base\n",
        "\n",
        "    return base\n",
        "\n",
        "def simplify_song(chord_transcript):\n",
        "    \"\"\"Replace all complicated chords with simple analogs\n",
        "\n",
        "        :param song_transcript (list): list of [ChordStartTime, ChordEndTime, ChordLabel]\n",
        "        :return \n",
        "    \"\"\"\n",
        "    for row in chord_transcript:\n",
        "        row[2] = _simplify_chord(row[2])"
      ],
      "metadata": {
        "id": "5n3esLu3MLAM"
      },
      "execution_count": null,
      "outputs": []
    },
    {
      "cell_type": "code",
      "source": [
        "# Getting a chord transcriptions for every song in directory\n",
        "chord_transcriptions = get_chord_transcripts(CHORDS_DIR)"
      ],
      "metadata": {
        "id": "A3lJDtDnMLkD"
      },
      "execution_count": null,
      "outputs": []
    },
    {
      "cell_type": "code",
      "source": [
        "# Count and print all chords and how many times they had been used\n",
        "print('ALL USED CHORDS')\n",
        "chord_types = count_chord_types(chord_transcriptions.values())\n",
        "print(\"\\nNumber of chord classes: \", len(list(chord_types.keys())))\n",
        "print('\\n')\n",
        "[print(f'{key}: {value} ( {round(value*100/sum(chord_types.values()), 2)}% )') \n",
        "                                            for key, value in chord_types.items()]"
      ],
      "metadata": {
        "id": "53mJREBHMOeW"
      },
      "execution_count": null,
      "outputs": []
    },
    {
      "cell_type": "code",
      "source": [
        "# Simplify complicated chords: replace them with one of the list of 24 base chords\n",
        "[simplify_song(transcript) for transcript in chord_transcriptions.values()]\n",
        "\n",
        "print('\\nSIMPLIFIED CHORDS:\\n')\n",
        "simplified_chord_types = count_chord_types(chord_transcriptions.values())\n",
        "[print(f'{key}: {value} ( {round(value*100/sum(simplified_chord_types.values()), 2)}% )') \n",
        "                                            for key, value in simplified_chord_types.items()]\n",
        "\n",
        "chord_classes = list(simplified_chord_types.keys())\n",
        "print(chord_classes)"
      ],
      "metadata": {
        "id": "E22Qk2ERMS9D"
      },
      "execution_count": null,
      "outputs": []
    },
    {
      "cell_type": "code",
      "source": [],
      "metadata": {
        "id": "U2cKy993MWBW"
      },
      "execution_count": null,
      "outputs": []
    }
  ]
}